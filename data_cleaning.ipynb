{
 "cells": [
  {
   "cell_type": "code",
   "execution_count": 25,
   "id": "16cc3f1c",
   "metadata": {},
   "outputs": [],
   "source": [
    "import pandas as pd\n",
    "import numpy as np\n",
    "import seaborn as sns\n",
    "import matplotlib.pyplot as plt"
   ]
  },
  {
   "cell_type": "code",
   "execution_count": 26,
   "id": "eb7c3297",
   "metadata": {},
   "outputs": [],
   "source": [
    "data = pd.read_csv(r'D:\\GUVI\\Project\\Warehouse\\data\\warehouse_products.csv')"
   ]
  },
  {
   "cell_type": "code",
   "execution_count": 27,
   "id": "51fa9a94",
   "metadata": {},
   "outputs": [
    {
     "data": {
      "text/html": [
       "<div>\n",
       "<style scoped>\n",
       "    .dataframe tbody tr th:only-of-type {\n",
       "        vertical-align: middle;\n",
       "    }\n",
       "\n",
       "    .dataframe tbody tr th {\n",
       "        vertical-align: top;\n",
       "    }\n",
       "\n",
       "    .dataframe thead th {\n",
       "        text-align: right;\n",
       "    }\n",
       "</style>\n",
       "<table border=\"1\" class=\"dataframe\">\n",
       "  <thead>\n",
       "    <tr style=\"text-align: right;\">\n",
       "      <th></th>\n",
       "      <th>Product ID</th>\n",
       "      <th>Height (cm)</th>\n",
       "      <th>Width (cm)</th>\n",
       "      <th>Depth (cm)</th>\n",
       "      <th>Avg Daily Demand</th>\n",
       "      <th>Product Category</th>\n",
       "      <th>Score</th>\n",
       "    </tr>\n",
       "  </thead>\n",
       "  <tbody>\n",
       "    <tr>\n",
       "      <th>0</th>\n",
       "      <td>P20106</td>\n",
       "      <td>35.436002</td>\n",
       "      <td>22.622569</td>\n",
       "      <td>33.657885</td>\n",
       "      <td>49.123508</td>\n",
       "      <td>Electronics</td>\n",
       "      <td>6.697377</td>\n",
       "    </tr>\n",
       "    <tr>\n",
       "      <th>1</th>\n",
       "      <td>P41070</td>\n",
       "      <td>28.556396</td>\n",
       "      <td>24.461528</td>\n",
       "      <td>44.912779</td>\n",
       "      <td>16.094638</td>\n",
       "      <td>Electronics</td>\n",
       "      <td>86.751324</td>\n",
       "    </tr>\n",
       "    <tr>\n",
       "      <th>2</th>\n",
       "      <td>P29033</td>\n",
       "      <td>28.387143</td>\n",
       "      <td>16.138052</td>\n",
       "      <td>18.433578</td>\n",
       "      <td>17.235752</td>\n",
       "      <td>Food</td>\n",
       "      <td>39.181937</td>\n",
       "    </tr>\n",
       "    <tr>\n",
       "      <th>3</th>\n",
       "      <td>P47714</td>\n",
       "      <td>23.283766</td>\n",
       "      <td>24.277033</td>\n",
       "      <td>26.857256</td>\n",
       "      <td>6.472163</td>\n",
       "      <td>Clothing</td>\n",
       "      <td>36.539454</td>\n",
       "    </tr>\n",
       "    <tr>\n",
       "      <th>4</th>\n",
       "      <td>P14692</td>\n",
       "      <td>9.607678</td>\n",
       "      <td>23.973594</td>\n",
       "      <td>37.116032</td>\n",
       "      <td>15.737616</td>\n",
       "      <td>Food</td>\n",
       "      <td>54.279738</td>\n",
       "    </tr>\n",
       "  </tbody>\n",
       "</table>\n",
       "</div>"
      ],
      "text/plain": [
       "  Product ID  Height (cm)  Width (cm)  Depth (cm)  Avg Daily Demand  \\\n",
       "0     P20106    35.436002   22.622569   33.657885         49.123508   \n",
       "1     P41070    28.556396   24.461528   44.912779         16.094638   \n",
       "2     P29033    28.387143   16.138052   18.433578         17.235752   \n",
       "3     P47714    23.283766   24.277033   26.857256          6.472163   \n",
       "4     P14692     9.607678   23.973594   37.116032         15.737616   \n",
       "\n",
       "  Product Category      Score  \n",
       "0      Electronics   6.697377  \n",
       "1      Electronics  86.751324  \n",
       "2             Food  39.181937  \n",
       "3         Clothing  36.539454  \n",
       "4             Food  54.279738  "
      ]
     },
     "execution_count": 27,
     "metadata": {},
     "output_type": "execute_result"
    }
   ],
   "source": [
    "data.head()"
   ]
  },
  {
   "cell_type": "code",
   "execution_count": 28,
   "id": "daf6df1a",
   "metadata": {},
   "outputs": [
    {
     "name": "stdout",
     "output_type": "stream",
     "text": [
      "<class 'pandas.core.frame.DataFrame'>\n",
      "RangeIndex: 1500 entries, 0 to 1499\n",
      "Data columns (total 7 columns):\n",
      " #   Column            Non-Null Count  Dtype  \n",
      "---  ------            --------------  -----  \n",
      " 0   Product ID        1500 non-null   object \n",
      " 1   Height (cm)       1455 non-null   float64\n",
      " 2   Width (cm)        1455 non-null   float64\n",
      " 3   Depth (cm)        1455 non-null   float64\n",
      " 4   Avg Daily Demand  1455 non-null   float64\n",
      " 5   Product Category  1500 non-null   object \n",
      " 6   Score             1500 non-null   float64\n",
      "dtypes: float64(5), object(2)\n",
      "memory usage: 82.2+ KB\n"
     ]
    }
   ],
   "source": [
    "data.info()"
   ]
  },
  {
   "cell_type": "code",
   "execution_count": 29,
   "id": "a98aa537",
   "metadata": {},
   "outputs": [
    {
     "data": {
      "text/plain": [
       "Product ID           0\n",
       "Height (cm)         45\n",
       "Width (cm)          45\n",
       "Depth (cm)          45\n",
       "Avg Daily Demand    45\n",
       "Product Category     0\n",
       "Score                0\n",
       "dtype: int64"
      ]
     },
     "execution_count": 29,
     "metadata": {},
     "output_type": "execute_result"
    }
   ],
   "source": [
    "data.isnull().sum()"
   ]
  },
  {
   "cell_type": "code",
   "execution_count": null,
   "id": "4f6fb290",
   "metadata": {},
   "outputs": [
    {
     "data": {
      "text/html": [
       "<div>\n",
       "<style scoped>\n",
       "    .dataframe tbody tr th:only-of-type {\n",
       "        vertical-align: middle;\n",
       "    }\n",
       "\n",
       "    .dataframe tbody tr th {\n",
       "        vertical-align: top;\n",
       "    }\n",
       "\n",
       "    .dataframe thead th {\n",
       "        text-align: right;\n",
       "    }\n",
       "</style>\n",
       "<table border=\"1\" class=\"dataframe\">\n",
       "  <thead>\n",
       "    <tr style=\"text-align: right;\">\n",
       "      <th></th>\n",
       "      <th>Product ID</th>\n",
       "      <th>Height (cm)</th>\n",
       "      <th>Width (cm)</th>\n",
       "      <th>Depth (cm)</th>\n",
       "      <th>Avg Daily Demand</th>\n",
       "      <th>Product Category</th>\n",
       "      <th>Score</th>\n",
       "    </tr>\n",
       "  </thead>\n",
       "  <tbody>\n",
       "    <tr>\n",
       "      <th>11</th>\n",
       "      <td>P95243</td>\n",
       "      <td>17.031681</td>\n",
       "      <td>18.475975</td>\n",
       "      <td>NaN</td>\n",
       "      <td>3.666985</td>\n",
       "      <td>Furniture</td>\n",
       "      <td>82.932746</td>\n",
       "    </tr>\n",
       "    <tr>\n",
       "      <th>13</th>\n",
       "      <td>P11540</td>\n",
       "      <td>28.854602</td>\n",
       "      <td>NaN</td>\n",
       "      <td>45.443048</td>\n",
       "      <td>70.127337</td>\n",
       "      <td>Electronics</td>\n",
       "      <td>32.575985</td>\n",
       "    </tr>\n",
       "    <tr>\n",
       "      <th>21</th>\n",
       "      <td>P11982</td>\n",
       "      <td>45.860168</td>\n",
       "      <td>NaN</td>\n",
       "      <td>5.628548</td>\n",
       "      <td>0.720149</td>\n",
       "      <td>Electronics</td>\n",
       "      <td>16.642019</td>\n",
       "    </tr>\n",
       "    <tr>\n",
       "      <th>23</th>\n",
       "      <td>P91013</td>\n",
       "      <td>15.846293</td>\n",
       "      <td>18.536828</td>\n",
       "      <td>NaN</td>\n",
       "      <td>43.521184</td>\n",
       "      <td>Food</td>\n",
       "      <td>23.126430</td>\n",
       "    </tr>\n",
       "    <tr>\n",
       "      <th>33</th>\n",
       "      <td>P54326</td>\n",
       "      <td>17.621845</td>\n",
       "      <td>26.080448</td>\n",
       "      <td>32.888101</td>\n",
       "      <td>NaN</td>\n",
       "      <td>Food</td>\n",
       "      <td>97.094028</td>\n",
       "    </tr>\n",
       "  </tbody>\n",
       "</table>\n",
       "</div>"
      ],
      "text/plain": [
       "   Product ID  Height (cm)  Width (cm)  Depth (cm)  Avg Daily Demand  \\\n",
       "11     P95243    17.031681   18.475975         NaN          3.666985   \n",
       "13     P11540    28.854602         NaN   45.443048         70.127337   \n",
       "21     P11982    45.860168         NaN    5.628548          0.720149   \n",
       "23     P91013    15.846293   18.536828         NaN         43.521184   \n",
       "33     P54326    17.621845   26.080448   32.888101               NaN   \n",
       "\n",
       "   Product Category      Score  \n",
       "11        Furniture  82.932746  \n",
       "13      Electronics  32.575985  \n",
       "21      Electronics  16.642019  \n",
       "23             Food  23.126430  \n",
       "33             Food  97.094028  "
      ]
     },
     "execution_count": 30,
     "metadata": {},
     "output_type": "execute_result"
    }
   ],
   "source": [
    "data[data.isnull().any(axis=1)].head() #Patterns in Missing Data"
   ]
  },
  {
   "cell_type": "code",
   "execution_count": 31,
   "id": "31f891b0",
   "metadata": {},
   "outputs": [],
   "source": [
    "num_col = ['Height (cm)', 'Width (cm)', 'Depth (cm)', 'Avg Daily Demand']\n",
    "\n",
    "for col in num_col:\n",
    "    data[col] = data.groupby('Product Category')[col].transform(lambda x:x.fillna(x.median()))"
   ]
  },
  {
   "cell_type": "code",
   "execution_count": 32,
   "id": "5808bd6b",
   "metadata": {},
   "outputs": [
    {
     "data": {
      "text/plain": [
       "Product ID          0\n",
       "Height (cm)         0\n",
       "Width (cm)          0\n",
       "Depth (cm)          0\n",
       "Avg Daily Demand    0\n",
       "Product Category    0\n",
       "Score               0\n",
       "dtype: int64"
      ]
     },
     "execution_count": 32,
     "metadata": {},
     "output_type": "execute_result"
    }
   ],
   "source": [
    "data.isnull().sum()"
   ]
  },
  {
   "cell_type": "code",
   "execution_count": null,
   "id": "cc273be2",
   "metadata": {},
   "outputs": [
    {
     "data": {
      "image/png": "[encoded data removed]",
      "text/plain": [
       "<Figure size 640x480 with 2 Axes>"
      ]
     },
     "metadata": {},
     "output_type": "display_data"
    }
   ],
   "source": [
    "corr = data[['Height (cm)', 'Width (cm)', 'Depth (cm)', 'Avg Daily Demand', 'Score']].corr()\n",
    "sns.heatmap(corr, annot=True)\n",
    "plt.title(\"Correlation Matrix\")\n",
    "plt.show()\n",
    "\n",
    "'''\n",
    "--> Width, Depth, and Avg Daily Demand are even less correlated\n",
    "--> There is no strong linear relationship between Score and any of the other features\n",
    "'''"
   ]
  },
  {
   "cell_type": "code",
   "execution_count": 36,
   "id": "508cb06a",
   "metadata": {},
   "outputs": [
    {
     "name": "stdout",
     "output_type": "stream",
     "text": [
      "[0.         0.01630134 0.         0.        ]\n"
     ]
    }
   ],
   "source": [
    "from sklearn.feature_selection import mutual_info_regression\n",
    "\n",
    "X = data[['Height (cm)', 'Width (cm)', 'Depth (cm)', 'Avg Daily Demand']]\n",
    "y = data['Score']\n",
    "mi = mutual_info_regression(X, y)\n",
    "print(mi)\n"
   ]
  },
  {
   "cell_type": "markdown",
   "id": "da135b60",
   "metadata": {},
   "source": [
    "From this we concluding that score is not releated to this data set"
   ]
  },
  {
   "cell_type": "code",
   "execution_count": 43,
   "id": "c2880a1a",
   "metadata": {},
   "outputs": [],
   "source": [
    "data = data.drop(columns=['Score'])\n"
   ]
  },
  {
   "cell_type": "markdown",
   "id": "01f13ea4",
   "metadata": {},
   "source": []
  },
  {
   "cell_type": "code",
   "execution_count": null,
   "id": "0982d509",
   "metadata": {},
   "outputs": [
    {
     "data": {
      "text/plain": [
       "Height (cm)          1\n",
       "Width (cm)          12\n",
       "Depth (cm)           6\n",
       "Avg Daily Demand     0\n",
       "dtype: int64"
      ]
     },
     "execution_count": 47,
     "metadata": {},
     "output_type": "execute_result"
    }
   ],
   "source": [
    "(data[col] < 0).sum()"
   ]
  },
  {
   "cell_type": "code",
   "execution_count": 52,
   "id": "339b6380",
   "metadata": {},
   "outputs": [],
   "source": [
    "data[data[col] < 0] = 0\n"
   ]
  },
  {
   "cell_type": "code",
   "execution_count": 53,
   "id": "b33e5f2a",
   "metadata": {},
   "outputs": [
    {
     "data": {
      "text/plain": [
       "Height (cm)         0\n",
       "Width (cm)          0\n",
       "Depth (cm)          0\n",
       "Avg Daily Demand    0\n",
       "dtype: int64"
      ]
     },
     "execution_count": 53,
     "metadata": {},
     "output_type": "execute_result"
    }
   ],
   "source": [
    "(data[col] < 0).sum()"
   ]
  },
  {
   "cell_type": "code",
   "execution_count": 55,
   "id": "909ea2ef",
   "metadata": {},
   "outputs": [
    {
     "name": "stdout",
     "output_type": "stream",
     "text": [
      "<class 'pandas.core.frame.DataFrame'>\n",
      "RangeIndex: 1500 entries, 0 to 1499\n",
      "Data columns (total 6 columns):\n",
      " #   Column            Non-Null Count  Dtype  \n",
      "---  ------            --------------  -----  \n",
      " 0   Product ID        1500 non-null   object \n",
      " 1   Height (cm)       1500 non-null   float64\n",
      " 2   Width (cm)        1500 non-null   float64\n",
      " 3   Depth (cm)        1500 non-null   float64\n",
      " 4   Avg Daily Demand  1500 non-null   float64\n",
      " 5   Product Category  1500 non-null   object \n",
      "dtypes: float64(4), object(2)\n",
      "memory usage: 70.4+ KB\n"
     ]
    }
   ],
   "source": [
    "data.info()"
   ]
  },
  {
   "cell_type": "code",
   "execution_count": null,
   "id": "a83dbe3c",
   "metadata": {},
   "outputs": [],
   "source": [
    "data.to_csv('data/data_cleaned.csv', , index=False)"
   ]
  },
  {
   "cell_type": "code",
   "execution_count": null,
   "id": "1d7b5acf",
   "metadata": {},
   "outputs": [],
   "source": []
  }
 ],
 "metadata": {
  "kernelspec": {
   "display_name": "env",
   "language": "python",
   "name": "python3"
  },
  "language_info": {
   "codemirror_mode": {
    "name": "ipython",
    "version": 3
   },
   "file_extension": ".py",
   "mimetype": "text/x-python",
   "name": "python",
   "nbconvert_exporter": "python",
   "pygments_lexer": "ipython3",
   "version": "3.13.1"
  }
 },
 "nbformat": 4,
 "nbformat_minor": 5
}
